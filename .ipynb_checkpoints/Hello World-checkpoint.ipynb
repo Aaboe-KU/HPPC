{
 "cells": [
  {
   "cell_type": "code",
   "execution_count": null,
   "id": "a92315c3-df7a-4c01-8725-8ee98d52f2bd",
   "metadata": {},
   "outputs": [],
   "source": [
    "print(Hello World!)"
   ]
  }
 ],
 "metadata": {
  "kernelspec": {
   "display_name": "Python 3 (ipykernel)",
   "language": "python",
   "name": "python3"
  },
  "language_info": {
   "codemirror_mode": {
    "name": "ipython",
    "version": 3
   },
   "file_extension": ".py",
   "mimetype": "text/x-python",
   "name": "python",
   "nbconvert_exporter": "python",
   "pygments_lexer": "ipython3",
   "version": "3.10.13"
  }
 },
 "nbformat": 4,
 "nbformat_minor": 5
}
